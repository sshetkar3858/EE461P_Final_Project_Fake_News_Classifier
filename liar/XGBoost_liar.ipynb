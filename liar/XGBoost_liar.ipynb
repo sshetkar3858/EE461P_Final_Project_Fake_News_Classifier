{
 "cells": [
  {
   "cell_type": "code",
   "execution_count": 53,
   "metadata": {},
   "outputs": [
    {
     "output_type": "stream",
     "name": "stdout",
     "text": [
      "Requirement already satisfied: wordcloud in c:\\users\\mrobv\\appdata\\local\\packages\\pythonsoftwarefoundation.python.3.8_qbz5n2kfra8p0\\localcache\\local-packages\\python38\\site-packages (1.8.1)\n",
      "Requirement already satisfied: pillow in c:\\users\\mrobv\\appdata\\local\\packages\\pythonsoftwarefoundation.python.3.8_qbz5n2kfra8p0\\localcache\\local-packages\\python38\\site-packages (from wordcloud) (8.2.0)\n",
      "Requirement already satisfied: matplotlib in c:\\users\\mrobv\\appdata\\local\\packages\\pythonsoftwarefoundation.python.3.8_qbz5n2kfra8p0\\localcache\\local-packages\\python38\\site-packages (from wordcloud) (3.4.1)\n",
      "Requirement already satisfied: numpy>=1.6.1 in c:\\users\\mrobv\\appdata\\local\\packages\\pythonsoftwarefoundation.python.3.8_qbz5n2kfra8p0\\localcache\\local-packages\\python38\\site-packages (from wordcloud) (1.20.2)\n",
      "Requirement already satisfied: pyparsing>=2.2.1 in c:\\users\\mrobv\\appdata\\local\\packages\\pythonsoftwarefoundation.python.3.8_qbz5n2kfra8p0\\localcache\\local-packages\\python38\\site-packages (from matplotlib->wordcloud) (2.4.7)\n",
      "Requirement already satisfied: kiwisolver>=1.0.1 in c:\\users\\mrobv\\appdata\\local\\packages\\pythonsoftwarefoundation.python.3.8_qbz5n2kfra8p0\\localcache\\local-packages\\python38\\site-packages (from matplotlib->wordcloud) (1.3.1)\n",
      "Requirement already satisfied: cycler>=0.10 in c:\\users\\mrobv\\appdata\\local\\packages\\pythonsoftwarefoundation.python.3.8_qbz5n2kfra8p0\\localcache\\local-packages\\python38\\site-packages (from matplotlib->wordcloud) (0.10.0)\n",
      "Requirement already satisfied: python-dateutil>=2.7 in c:\\users\\mrobv\\appdata\\local\\packages\\pythonsoftwarefoundation.python.3.8_qbz5n2kfra8p0\\localcache\\local-packages\\python38\\site-packages (from matplotlib->wordcloud) (2.8.1)\n",
      "Requirement already satisfied: six in c:\\users\\mrobv\\appdata\\local\\packages\\pythonsoftwarefoundation.python.3.8_qbz5n2kfra8p0\\localcache\\local-packages\\python38\\site-packages (from cycler>=0.10->matplotlib->wordcloud) (1.16.0)\n",
      "WARNING: You are using pip version 20.2.3; however, version 21.1.1 is available.\n",
      "You should consider upgrading via the 'C:\\Users\\MrObv\\AppData\\Local\\Microsoft\\WindowsApps\\PythonSoftwareFoundation.Python.3.8_qbz5n2kfra8p0\\python.exe -m pip install --upgrade pip' command.\n"
     ]
    }
   ],
   "source": [
    "!pip3 install wordcloud"
   ]
  },
  {
   "cell_type": "code",
   "execution_count": 65,
   "id": "behind-orchestra",
   "metadata": {},
   "outputs": [
    {
     "output_type": "error",
     "ename": "ModuleNotFoundError",
     "evalue": "No module named 'wordcloud'",
     "traceback": [
      "\u001b[1;31m---------------------------------------------------------------------------\u001b[0m",
      "\u001b[1;31mModuleNotFoundError\u001b[0m                       Traceback (most recent call last)",
      "\u001b[1;32m<ipython-input-65-e1657bbc8f59>\u001b[0m in \u001b[0;36m<module>\u001b[1;34m\u001b[0m\n\u001b[0;32m      8\u001b[0m \u001b[1;32mimport\u001b[0m \u001b[0mrandom\u001b[0m\u001b[1;33m\u001b[0m\u001b[1;33m\u001b[0m\u001b[0m\n\u001b[0;32m      9\u001b[0m \u001b[1;32mimport\u001b[0m \u001b[0mwarnings\u001b[0m\u001b[1;33m\u001b[0m\u001b[1;33m\u001b[0m\u001b[0m\n\u001b[1;32m---> 10\u001b[1;33m \u001b[1;32mfrom\u001b[0m \u001b[0mwordcloud\u001b[0m \u001b[1;32mimport\u001b[0m \u001b[0mSTOPWORDS\u001b[0m\u001b[1;33m,\u001b[0m \u001b[0mWordCloud\u001b[0m\u001b[1;33m\u001b[0m\u001b[1;33m\u001b[0m\u001b[0m\n\u001b[0m\u001b[0;32m     11\u001b[0m \u001b[1;33m\u001b[0m\u001b[0m\n\u001b[0;32m     12\u001b[0m \u001b[1;33m\u001b[0m\u001b[0m\n",
      "\u001b[1;31mModuleNotFoundError\u001b[0m: No module named 'wordcloud'"
     ]
    }
   ],
   "source": [
    "import numpy as np\n",
    "import pandas as pd\n",
    "import matplotlib.pyplot as plt\n",
    "import seaborn as sns\n",
    "import matplotlib\n",
    "import string\n",
    "import os\n",
    "import random\n",
    "import warnings\n",
    "from wordcloud import STOPWORDS, WordCloud\n",
    "\n",
    "\n",
    "warnings.filterwarnings('ignore')\n",
    "%matplotlib inline\n"
   ]
  },
  {
   "cell_type": "code",
   "execution_count": 3,
   "metadata": {},
   "outputs": [
    {
     "output_type": "stream",
     "name": "stdout",
     "text": [
      "(10240, 14)\n(1267, 14)\n(1284, 14)\n"
     ]
    }
   ],
   "source": [
    "trainFile = 'train.tsv'\n",
    "testFile = 'test.tsv'\n",
    "valFile = 'valid.tsv'\n",
    "\n",
    "train = pd.read_csv(trainFile, delimiter='\\t', encoding='utf-8', names=\n",
    "                        [\"json ID\", \"label\", \"statement\", \"subject\", \"speaker\", \"job title\", \"state\", \"party\",\n",
    "                         \"barely true\", \"false\", \"half true\", \"mostly true\", \"pants on fire\", \"los\"])\n",
    "train.name = 'Training Data'\n",
    "\n",
    "test = pd.read_csv(testFile, delimiter='\\t', encoding='utf-8', names=\n",
    "                        [\"json ID\", \"label\", \"statement\", \"subject\", \"speaker\", \"job title\", \"state\", \"party\",\n",
    "                         \"barely true\", \"false\", \"half true\", \"mostly true\", \"pants on fire\", \"los\"])\n",
    "test.name = 'Testing Data'\n",
    "\n",
    "val = pd.read_csv(valFile, delimiter='\\t', encoding='utf-8', names=\n",
    "                        [\"json ID\", \"label\", \"statement\", \"subject\", \"speaker\", \"job title\", \"state\", \"party\",\n",
    "                         \"barely true\", \"false\", \"half true\", \"mostly true\", \"pants on fire\", \"los\"])\n",
    "val.name = 'Validation Data'\n",
    "print(train.shape)\n",
    "print(test.shape)\n",
    "print(val.shape)"
   ]
  },
  {
   "cell_type": "code",
   "execution_count": 5,
   "metadata": {},
   "outputs": [],
   "source": [
    "from nltk.corpus import stopwords\n",
    "import string\n",
    "def process_text(s):\n",
    "    #removes punctuation from strings and joins adjacent strings tgt\n",
    "    nopunc = [char for char in s if char not in string.punctuation]\n",
    "    nopunc = ''.join(nopunc)\n",
    "    #lowercase all strings\n",
    "    clean_string = [word for word in nopunc.split() if word.lower() not in stopwords.words('english')]\n",
    "    return clean_string"
   ]
  },
  {
   "cell_type": "code",
   "execution_count": 6,
   "metadata": {},
   "outputs": [
    {
     "output_type": "stream",
     "name": "stderr",
     "text": [
      "[nltk_data] Downloading package stopwords to\n[nltk_data]     C:\\Users\\MrObv\\AppData\\Roaming\\nltk_data...\n[nltk_data]   Unzipping corpora\\stopwords.zip.\n"
     ]
    },
    {
     "output_type": "execute_result",
     "data": {
      "text/plain": [
       "True"
      ]
     },
     "metadata": {},
     "execution_count": 6
    }
   ],
   "source": [
    "import nltk\n",
    "nltk.download('stopwords')"
   ]
  },
  {
   "cell_type": "code",
   "execution_count": 8,
   "metadata": {},
   "outputs": [
    {
     "output_type": "execute_result",
     "data": {
      "text/plain": [
       "         json ID        label  \\\n",
       "2952  11421.json         true   \n",
       "3377  12735.json  mostly-true   \n",
       "3239   8933.json        false   \n",
       "1058    720.json         true   \n",
       "7613    946.json        false   \n",
       "\n",
       "                                              statement  \\\n",
       "2952                        On the Keystone XL pipeline   \n",
       "3377  We in Indiana have . . . the highest credit ra...   \n",
       "3239          Richmond is the most vegan-friendly city.   \n",
       "1058  John McCain said last year he didn't know of a...   \n",
       "7613  The president's plan, even after the end of it...   \n",
       "\n",
       "                                                subject          speaker  \\\n",
       "2952                                        environment  hillary-clinton   \n",
       "3377  candidates-biography,debt,deficit,economy,hist...       mike-pence   \n",
       "3239                             pop-culture,recreation     dwight-jones   \n",
       "1058                                    economy,housing     barack-obama   \n",
       "7613                                               iraq      john-mccain   \n",
       "\n",
       "                    job title     state       party  barely true  false  \\\n",
       "2952   Presidential candidate  New York    democrat         40.0   29.0   \n",
       "3377                 Governor   Indiana  republican          8.0   10.0   \n",
       "3239  Mayor, City of Richmond  Virginia    democrat          1.0    1.0   \n",
       "1058                President  Illinois    democrat         70.0   71.0   \n",
       "7613             U.S. senator   Arizona  republican         31.0   39.0   \n",
       "\n",
       "      half true  mostly true  pants on fire  \\\n",
       "2952       69.0         76.0            7.0   \n",
       "3377       12.0          5.0            0.0   \n",
       "3239        1.0          1.0            0.0   \n",
       "1058      160.0        163.0            9.0   \n",
       "7613       31.0         37.0            8.0   \n",
       "\n",
       "                                        los  \\\n",
       "2952         in the first Democratic debate   \n",
       "3377  a speech at the Republican convention   \n",
       "3239                              a speech.   \n",
       "1058                          Golden, Colo.   \n",
       "7613          a speech on the Senate floor.   \n",
       "\n",
       "                                       Clean Statements  \n",
       "2952                           [Keystone, XL, pipeline]  \n",
       "3377         [Indiana, highest, credit, rating, nation]  \n",
       "3239                    [Richmond, veganfriendly, city]  \n",
       "1058  [John, McCain, said, last, year, didnt, know, ...  \n",
       "7613  [presidents, plan, even, end, withdrawal, time...  "
      ],
      "text/html": "<div>\n<style scoped>\n    .dataframe tbody tr th:only-of-type {\n        vertical-align: middle;\n    }\n\n    .dataframe tbody tr th {\n        vertical-align: top;\n    }\n\n    .dataframe thead th {\n        text-align: right;\n    }\n</style>\n<table border=\"1\" class=\"dataframe\">\n  <thead>\n    <tr style=\"text-align: right;\">\n      <th></th>\n      <th>json ID</th>\n      <th>label</th>\n      <th>statement</th>\n      <th>subject</th>\n      <th>speaker</th>\n      <th>job title</th>\n      <th>state</th>\n      <th>party</th>\n      <th>barely true</th>\n      <th>false</th>\n      <th>half true</th>\n      <th>mostly true</th>\n      <th>pants on fire</th>\n      <th>los</th>\n      <th>Clean Statements</th>\n    </tr>\n  </thead>\n  <tbody>\n    <tr>\n      <th>2952</th>\n      <td>11421.json</td>\n      <td>true</td>\n      <td>On the Keystone XL pipeline</td>\n      <td>environment</td>\n      <td>hillary-clinton</td>\n      <td>Presidential candidate</td>\n      <td>New York</td>\n      <td>democrat</td>\n      <td>40.0</td>\n      <td>29.0</td>\n      <td>69.0</td>\n      <td>76.0</td>\n      <td>7.0</td>\n      <td>in the first Democratic debate</td>\n      <td>[Keystone, XL, pipeline]</td>\n    </tr>\n    <tr>\n      <th>3377</th>\n      <td>12735.json</td>\n      <td>mostly-true</td>\n      <td>We in Indiana have . . . the highest credit ra...</td>\n      <td>candidates-biography,debt,deficit,economy,hist...</td>\n      <td>mike-pence</td>\n      <td>Governor</td>\n      <td>Indiana</td>\n      <td>republican</td>\n      <td>8.0</td>\n      <td>10.0</td>\n      <td>12.0</td>\n      <td>5.0</td>\n      <td>0.0</td>\n      <td>a speech at the Republican convention</td>\n      <td>[Indiana, highest, credit, rating, nation]</td>\n    </tr>\n    <tr>\n      <th>3239</th>\n      <td>8933.json</td>\n      <td>false</td>\n      <td>Richmond is the most vegan-friendly city.</td>\n      <td>pop-culture,recreation</td>\n      <td>dwight-jones</td>\n      <td>Mayor, City of Richmond</td>\n      <td>Virginia</td>\n      <td>democrat</td>\n      <td>1.0</td>\n      <td>1.0</td>\n      <td>1.0</td>\n      <td>1.0</td>\n      <td>0.0</td>\n      <td>a speech.</td>\n      <td>[Richmond, veganfriendly, city]</td>\n    </tr>\n    <tr>\n      <th>1058</th>\n      <td>720.json</td>\n      <td>true</td>\n      <td>John McCain said last year he didn't know of a...</td>\n      <td>economy,housing</td>\n      <td>barack-obama</td>\n      <td>President</td>\n      <td>Illinois</td>\n      <td>democrat</td>\n      <td>70.0</td>\n      <td>71.0</td>\n      <td>160.0</td>\n      <td>163.0</td>\n      <td>9.0</td>\n      <td>Golden, Colo.</td>\n      <td>[John, McCain, said, last, year, didnt, know, ...</td>\n    </tr>\n    <tr>\n      <th>7613</th>\n      <td>946.json</td>\n      <td>false</td>\n      <td>The president's plan, even after the end of it...</td>\n      <td>iraq</td>\n      <td>john-mccain</td>\n      <td>U.S. senator</td>\n      <td>Arizona</td>\n      <td>republican</td>\n      <td>31.0</td>\n      <td>39.0</td>\n      <td>31.0</td>\n      <td>37.0</td>\n      <td>8.0</td>\n      <td>a speech on the Senate floor.</td>\n      <td>[presidents, plan, even, end, withdrawal, time...</td>\n    </tr>\n  </tbody>\n</table>\n</div>"
     },
     "metadata": {},
     "execution_count": 8
    }
   ],
   "source": [
    "train['Clean Statements'] = train['statement'].apply(process_text)\n",
    "test['Clean Statements'] = test['statement'].apply(process_text)\n",
    "val['Clean Statements'] = val['statement'].apply(process_text)\n",
    "train.sample(5)"
   ]
  },
  {
   "cell_type": "code",
   "execution_count": null,
   "metadata": {},
   "outputs": [],
   "source": [
    "def plot_save_wordcloud(dataset, title):\n",
    "    if not os.path.isdir('./figures'):\n",
    "        os.makedirs('figures')\n",
    "\n",
    "    text = dataset['Clean Statements'].values\n",
    "    wordcloud = WordCloud(\n",
    "        width=3000, height=2000, background_color='white',\n",
    "        stopwords=STOPWORDS).generate(str(text))\n",
    "    plt.imshow(wordcloud)\n",
    "    plt.axis('off')\n",
    "    plt.title('{}'.format(title))\n",
    "    title = title.replace(' ', '_')\n",
    "    plt.savefig('./figures/word_cloud_' + title)\n",
    "    plt.show()"
   ]
  },
  {
   "cell_type": "code",
   "execution_count": null,
   "metadata": {},
   "outputs": [],
   "source": [
    "def create_word_cloud(dataset, dataset_name):\n",
    "    \"\"\"Function to create the wordcloud of the complete dataset as well as\n",
    "    for only the true labels as well as for false labels of the dataset.\n",
    "\n",
    "    Parameters:\n",
    "    -----------\n",
    "    dataset: pandas dataframe\n",
    "        The dataset whose wordcloud is to be formed.\n",
    "    dataset_name: string\n",
    "        The name of the dataset.\n",
    "    \"\"\"\n",
    "    title = 'The wordcloud of the complete ' + dataset_name\n",
    "    plot_save_wordcloud(dataset, title)\n",
    "\n",
    "    # Plotting the wordcloud for the true labels only\n",
    "    true_dataset = dataset[dataset['label'].astype(str) == 'true']\n",
    "    title = 'The wordcloud of the true labels of ' + dataset_name\n",
    "    plot_save_wordcloud(true_dataset, title)\n",
    "\n",
    "    # Plotting the wordcloud for the half-true labels only\n",
    "    half_true_dataset = dataset[dataset['label'].astype(str) == 'half-true']\n",
    "    title = 'The wordcloud of the half-true labels of ' + dataset_name\n",
    "    plot_save_wordcloud(half_true_dataset, title)\n",
    "\n",
    "    # Plotting the wordcloud for the mostly-true labels only\n",
    "    mostly_true_dataset = dataset[dataset['label'].astype(str) == 'mostly-true']\n",
    "    title = 'The wordcloud of the mostly-true labels of ' + dataset_name\n",
    "    plot_save_wordcloud(mostly_true_dataset, title)\n",
    "\n",
    "    # Plotting the wordcloud for the barely-true labels only\n",
    "    barely_true_dataset = dataset[dataset['label'].astype(str) == 'barely-true']\n",
    "    title = 'The wordcloud of the barely-true labels of ' + dataset_name\n",
    "    plot_save_wordcloud(barely_true_dataset, title)\n",
    "\n",
    "    # Plotting the wordcloud for the false labels only\n",
    "    false_dataset = dataset[dataset['label'].astype(str) == 'false']\n",
    "    title = 'The wordcloud of the false labels of ' + dataset_name\n",
    "    plot_save_wordcloud(false_dataset, title)\n",
    "\n",
    "    # Plotting the wordcloud for the pants-fire labels only\n",
    "    pants_fire_dataset = dataset[dataset['label'].astype(str) == 'pants-fire']\n",
    "    title = 'The wordcloud of the pants-fire labels of ' + dataset_name\n",
    "    plot_save_wordcloud(pants_fire_dataset, title)"
   ]
  },
  {
   "cell_type": "code",
   "execution_count": null,
   "metadata": {},
   "outputs": [],
   "source": [
    "#create_word_cloud(train, 'Train dataset')"
   ]
  },
  {
   "cell_type": "code",
   "execution_count": 10,
   "metadata": {},
   "outputs": [
    {
     "output_type": "stream",
     "name": "stdout",
     "text": [
      "Collecting xgboost\n  Using cached xgboost-1.4.1-py3-none-win_amd64.whl (97.8 MB)\nRequirement already satisfied: scipy in c:\\users\\mrobv\\anaconda3\\lib\\site-packages (from xgboost) (1.5.2)\nRequirement already satisfied: numpy in c:\\users\\mrobv\\anaconda3\\lib\\site-packages (from xgboost) (1.19.2)\nInstalling collected packages: xgboost\nSuccessfully installed xgboost-1.4.1\n"
     ]
    }
   ],
   "source": [
    "!pip3 install xgboost"
   ]
  },
  {
   "cell_type": "code",
   "execution_count": 11,
   "metadata": {},
   "outputs": [],
   "source": [
    "from xgboost import XGBClassifier\n",
    "from sklearn.metrics import accuracy_score\n",
    "from sklearn.pipeline import Pipeline"
   ]
  },
  {
   "cell_type": "code",
   "execution_count": 24,
   "metadata": {},
   "outputs": [],
   "source": [
    "def process_text(s):\n",
    "    #removes punctuation from strings and joins adjacent strings tgt\n",
    "    nopunc = [char for char in s if char not in string.punctuation]\n",
    "    nopunc = ''.join(nopunc)\n",
    "    #lowercase all strings\n",
    "    clean_string = [word for word in nopunc.split() if word.lower() not in stopwords.words('english')]\n",
    "    return clean_string"
   ]
  },
  {
   "cell_type": "code",
   "execution_count": 67,
   "metadata": {},
   "outputs": [
    {
     "output_type": "execute_result",
     "data": {
      "text/plain": [
       "      json ID        label                                          statement  \\\n",
       "0   2635.json        false  Says the Annies List political group supports ...   \n",
       "1  10540.json    half-true  When did the decline of coal start? It started...   \n",
       "2    324.json  mostly-true  Hillary Clinton agrees with John McCain \"by vo...   \n",
       "3   1123.json        false  Health care reform legislation is likely to ma...   \n",
       "4   9028.json    half-true  The economic turnaround started at the end of ...   \n",
       "\n",
       "                              subject         speaker             job title  \\\n",
       "0                            abortion    dwayne-bohac  State representative   \n",
       "1  energy,history,job-accomplishments  scott-surovell        State delegate   \n",
       "2                      foreign-policy    barack-obama             President   \n",
       "3                         health-care    blog-posting                   NaN   \n",
       "4                        economy,jobs   charlie-crist                   NaN   \n",
       "\n",
       "      state       party  barely true  false  half true  mostly true  \\\n",
       "0     Texas  republican          0.0    1.0        0.0          0.0   \n",
       "1  Virginia    democrat          0.0    0.0        1.0          1.0   \n",
       "2  Illinois    democrat         70.0   71.0      160.0        163.0   \n",
       "3       NaN        none          7.0   19.0        3.0          5.0   \n",
       "4   Florida    democrat         15.0    9.0       20.0         19.0   \n",
       "\n",
       "   pants on fire                  los  \\\n",
       "0            0.0             a mailer   \n",
       "1            0.0      a floor speech.   \n",
       "2            9.0               Denver   \n",
       "3           44.0       a news release   \n",
       "4            2.0  an interview on CNN   \n",
       "\n",
       "                                    Clean Statements  bilabel  \n",
       "0  [Says, Annies, List, political, group, support...    False  \n",
       "1  [decline, coal, start, started, natural, gas, ...     True  \n",
       "2  [Hillary, Clinton, agrees, John, McCain, votin...     True  \n",
       "3  [Health, care, reform, legislation, likely, ma...    False  \n",
       "4         [economic, turnaround, started, end, term]     True  "
      ],
      "text/html": "<div>\n<style scoped>\n    .dataframe tbody tr th:only-of-type {\n        vertical-align: middle;\n    }\n\n    .dataframe tbody tr th {\n        vertical-align: top;\n    }\n\n    .dataframe thead th {\n        text-align: right;\n    }\n</style>\n<table border=\"1\" class=\"dataframe\">\n  <thead>\n    <tr style=\"text-align: right;\">\n      <th></th>\n      <th>json ID</th>\n      <th>label</th>\n      <th>statement</th>\n      <th>subject</th>\n      <th>speaker</th>\n      <th>job title</th>\n      <th>state</th>\n      <th>party</th>\n      <th>barely true</th>\n      <th>false</th>\n      <th>half true</th>\n      <th>mostly true</th>\n      <th>pants on fire</th>\n      <th>los</th>\n      <th>Clean Statements</th>\n      <th>bilabel</th>\n    </tr>\n  </thead>\n  <tbody>\n    <tr>\n      <th>0</th>\n      <td>2635.json</td>\n      <td>false</td>\n      <td>Says the Annies List political group supports ...</td>\n      <td>abortion</td>\n      <td>dwayne-bohac</td>\n      <td>State representative</td>\n      <td>Texas</td>\n      <td>republican</td>\n      <td>0.0</td>\n      <td>1.0</td>\n      <td>0.0</td>\n      <td>0.0</td>\n      <td>0.0</td>\n      <td>a mailer</td>\n      <td>[Says, Annies, List, political, group, support...</td>\n      <td>False</td>\n    </tr>\n    <tr>\n      <th>1</th>\n      <td>10540.json</td>\n      <td>half-true</td>\n      <td>When did the decline of coal start? It started...</td>\n      <td>energy,history,job-accomplishments</td>\n      <td>scott-surovell</td>\n      <td>State delegate</td>\n      <td>Virginia</td>\n      <td>democrat</td>\n      <td>0.0</td>\n      <td>0.0</td>\n      <td>1.0</td>\n      <td>1.0</td>\n      <td>0.0</td>\n      <td>a floor speech.</td>\n      <td>[decline, coal, start, started, natural, gas, ...</td>\n      <td>True</td>\n    </tr>\n    <tr>\n      <th>2</th>\n      <td>324.json</td>\n      <td>mostly-true</td>\n      <td>Hillary Clinton agrees with John McCain \"by vo...</td>\n      <td>foreign-policy</td>\n      <td>barack-obama</td>\n      <td>President</td>\n      <td>Illinois</td>\n      <td>democrat</td>\n      <td>70.0</td>\n      <td>71.0</td>\n      <td>160.0</td>\n      <td>163.0</td>\n      <td>9.0</td>\n      <td>Denver</td>\n      <td>[Hillary, Clinton, agrees, John, McCain, votin...</td>\n      <td>True</td>\n    </tr>\n    <tr>\n      <th>3</th>\n      <td>1123.json</td>\n      <td>false</td>\n      <td>Health care reform legislation is likely to ma...</td>\n      <td>health-care</td>\n      <td>blog-posting</td>\n      <td>NaN</td>\n      <td>NaN</td>\n      <td>none</td>\n      <td>7.0</td>\n      <td>19.0</td>\n      <td>3.0</td>\n      <td>5.0</td>\n      <td>44.0</td>\n      <td>a news release</td>\n      <td>[Health, care, reform, legislation, likely, ma...</td>\n      <td>False</td>\n    </tr>\n    <tr>\n      <th>4</th>\n      <td>9028.json</td>\n      <td>half-true</td>\n      <td>The economic turnaround started at the end of ...</td>\n      <td>economy,jobs</td>\n      <td>charlie-crist</td>\n      <td>NaN</td>\n      <td>Florida</td>\n      <td>democrat</td>\n      <td>15.0</td>\n      <td>9.0</td>\n      <td>20.0</td>\n      <td>19.0</td>\n      <td>2.0</td>\n      <td>an interview on CNN</td>\n      <td>[economic, turnaround, started, end, term]</td>\n      <td>True</td>\n    </tr>\n  </tbody>\n</table>\n</div>"
     },
     "metadata": {},
     "execution_count": 67
    }
   ],
   "source": [
    "from sklearn import preprocessing\n",
    "def transformtoBinary(s):\n",
    "  news = False\n",
    "  if s == 'half-true' or s == 'barely-true' or s== 'true' or s == 'mostly-true':\n",
    "    news = True\n",
    "  else:\n",
    "    news = False\n",
    "  return news\n",
    "train['bilabel'] = train['label'].apply(transformtoBinary)\n",
    "test['bilabel'] = test['label'].apply(transformtoBinary)\n",
    "train.head()"
   ]
  },
  {
   "cell_type": "code",
   "execution_count": 68,
   "metadata": {},
   "outputs": [
    {
     "output_type": "stream",
     "name": "stdout",
     "text": [
      "[17:45:43] WARNING: C:/Users/Administrator/workspace/xgboost-win64_release_1.4.0/src/learner.cc:1095: Starting in XGBoost 1.3.0, the default evaluation metric used with the objective 'binary:logistic' was changed from 'error' to 'logloss'. Explicitly set eval_metric if you'd like to restore the old behavior.\n",
      "XGBClassifier(base_score=0.5, booster='gbtree', colsample_bylevel=1,\n",
      "              colsample_bynode=1, colsample_bytree=1, gamma=0, gpu_id=-1,\n",
      "              importance_type='gain', interaction_constraints='',\n",
      "              learning_rate=0.300000012, max_delta_step=0, max_depth=6,\n",
      "              min_child_weight=1, missing=nan, monotone_constraints='()',\n",
      "              n_estimators=100, n_jobs=8, num_parallel_tree=1, random_state=0,\n",
      "              reg_alpha=0, reg_lambda=1, scale_pos_weight=1, subsample=1,\n",
      "              tree_method='exact', validate_parameters=1, verbosity=None)\n"
     ]
    }
   ],
   "source": [
    "from sklearn.model_selection import train_test_split\n",
    "from sklearn.preprocessing import LabelEncoder\n",
    "\n",
    "\n",
    "\n",
    "X_train = pd.DataFrame(train['statement'])\n",
    "y_train = pd.DataFrame(train['bilabel'])\n",
    "\n",
    "# encode text so it works with xgboost\n",
    "le = LabelEncoder()\n",
    "le = le.fit(X_train)\n",
    "X_train = pd.DataFrame(le.transform(X_train))\n",
    "\n",
    "xgb_model = XGBClassifier()\n",
    "xgb_model.fit(X_train, y_train)\n",
    "print(xgb_model)\n"
   ]
  },
  {
   "cell_type": "code",
   "execution_count": 73,
   "metadata": {},
   "outputs": [
    {
     "output_type": "stream",
     "name": "stdout",
     "text": [
      "(1267,)\n"
     ]
    }
   ],
   "source": [
    "# make predictions\n",
    "\n",
    "X_test = pd.DataFrame(test['statement'])\n",
    "le_pred = LabelEncoder().fit(X_test)\n",
    "X_test = pd.DataFrame(le_pred.transform(X_test))\n",
    "y_pred = xgb_model.predict(X_test)\n",
    "print(y_pred.shape)\n"
   ]
  },
  {
   "cell_type": "code",
   "execution_count": 75,
   "metadata": {},
   "outputs": [
    {
     "output_type": "stream",
     "name": "stdout",
     "text": [
      "Report for ---> XGBoost\nAccuracy is: 0.7016574585635359\nF1 score is: 0.6217979668325572\nPrecision score is: 0.5949977215341822\nRecall score is: 0.7016574585635359\n"
     ]
    }
   ],
   "source": [
    "from sklearn.metrics import classification_report\n",
    "from sklearn.metrics import (accuracy_score, f1_score, precision_score, recall_score)\n",
    "\n",
    "y_true = test['bilabel']\n",
    "\n",
    "accuracy = accuracy_score(y_true, y_pred)\n",
    "f1 = f1_score(y_true, y_pred, average = 'weighted')\n",
    "precision = precision_score(y_true, y_pred, average = 'weighted')\n",
    "recall = recall_score(y_true, y_pred, average = 'weighted')\n",
    "\n",
    "print('Report for ---> {}'.format(\"XGBoost\"))\n",
    "print('Accuracy is: {}'.format(accuracy))\n",
    "print('F1 score is: {}'.format(f1))\n",
    "print('Precision score is: {}'.format(precision))\n",
    "print('Recall score is: {}'.format(recall))\n"
   ]
  },
  {
   "cell_type": "code",
   "execution_count": null,
   "metadata": {},
   "outputs": [],
   "source": []
  }
 ],
 "metadata": {
  "kernelspec": {
   "name": "python385jvsc74a57bd09bcaf4164475431ab76045693150885fe991ff0a7a95a92e5f6820d0944c3d7d",
   "display_name": "Python 3.8.5 64-bit ('base': conda)"
  },
  "language_info": {
   "codemirror_mode": {
    "name": "ipython",
    "version": 3
   },
   "file_extension": ".py",
   "mimetype": "text/x-python",
   "name": "python",
   "nbconvert_exporter": "python",
   "pygments_lexer": "ipython3",
   "version": "3.8.5"
  }
 },
 "nbformat": 4,
 "nbformat_minor": 5
}